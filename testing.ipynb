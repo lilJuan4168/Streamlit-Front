{
 "cells": [
  {
   "cell_type": "code",
   "execution_count": null,
   "metadata": {},
   "outputs": [],
   "source": [
    "import urllib3\n",
    "import json\n",
    "import pandas as pd\n",
    "from datetime import datetime\n",
    "\n",
    "#Functions related to API requests\n",
    "\n",
    "http = urllib3.PoolManager()"
   ]
  },
  {
   "cell_type": "code",
   "execution_count": null,
   "metadata": {},
   "outputs": [],
   "source": [
    "def mercado_track_historic(item_id):\n",
    "    result = http.request(\"GET\", f\"https://mercadotrack.com/_next/data/toSzs6S9f71DST-8OKqHf/articulos/{item_id}.json\")\n",
    "    return result.json()"
   ]
  },
  {
   "cell_type": "code",
   "execution_count": 23,
   "metadata": {},
   "outputs": [],
   "source": [
    "x = mercado_track_historic(\"MLA1129772009\")"
   ]
  },
  {
   "cell_type": "code",
   "execution_count": 24,
   "metadata": {},
   "outputs": [],
   "source": [
    "y = x[\"pageProps\"]['article']['history']"
   ]
  },
  {
   "cell_type": "code",
   "execution_count": 25,
   "metadata": {},
   "outputs": [
    {
     "data": {
      "text/plain": [
       "[{'_id': '624c30e24457e035819257ed',\n",
       "  'article_id': 'MLA1129772009',\n",
       "  'price': 485400,\n",
       "  'fluctuation': -9848,\n",
       "  'date': '2022-04-05T12:06:58.197Z'},\n",
       " {'_id': '6254c2964457e03581a97493',\n",
       "  'article_id': 'MLA1129772009',\n",
       "  'price': 455400,\n",
       "  'fluctuation': -30000,\n",
       "  'date': '2022-04-12T00:06:46.737Z'},\n",
       " {'_id': '6268892b4457e03581da7cdf',\n",
       "  'article_id': 'MLA1129772009',\n",
       "  'price': 418000,\n",
       "  'fluctuation': -37400,\n",
       "  'date': '2022-04-27T00:07:07.013Z'},\n",
       " {'_id': '6283abda4457e03581210206',\n",
       "  'article_id': 'MLA1129772009',\n",
       "  'price': 414000,\n",
       "  'fluctuation': -4000,\n",
       "  'date': '2022-05-17T14:06:18.104Z'},\n",
       " {'_id': '628b94e94457e03581358073',\n",
       "  'article_id': 'MLA1129772009',\n",
       "  'price': 400000,\n",
       "  'fluctuation': -14000,\n",
       "  'date': '2022-05-23T14:06:33.543Z'},\n",
       " {'_id': '6290f7304457e0358145de84',\n",
       "  'article_id': 'MLA1129772009',\n",
       "  'price': 397000,\n",
       "  'fluctuation': -3000,\n",
       "  'date': '2022-05-27T16:07:12.227Z'},\n",
       " {'_id': '62a0acab7142782347d5347b',\n",
       "  'article_id': 'MLA1129772009',\n",
       "  'price': 383000,\n",
       "  'fluctuation': -14000,\n",
       "  'date': '2022-06-08T14:05:31.153Z'},\n",
       " {'_id': '62bcb0cd0124d580dab5ab5a',\n",
       "  'article_id': 'MLA1129772009',\n",
       "  'price': 341500,\n",
       "  'fluctuation': -41500,\n",
       "  'date': '2022-06-29T20:06:37.244Z'},\n",
       " {'_id': '62c212d40124d580dac9ac60',\n",
       "  'article_id': 'MLA1129772009',\n",
       "  'price': 441500,\n",
       "  'fluctuation': 100000,\n",
       "  'date': '2022-07-03T22:06:12.632Z'},\n",
       " {'_id': '62d99578913db34b3b05f4e7',\n",
       "  'article_id': 'MLA1129772009',\n",
       "  'price': 450000,\n",
       "  'fluctuation': 8500,\n",
       "  'date': '2022-07-21T18:05:44.778Z'},\n",
       " {'_id': '650483d0579e53166c3b4ae5',\n",
       "  'article_id': 'MLA1129772009',\n",
       "  'status': 'active',\n",
       "  'price': 988020,\n",
       "  'fluctuation': 403020,\n",
       "  'date': '2023-09-15T16:18:24.540Z'},\n",
       " {'_id': '6504b953579e53166c3bedc4',\n",
       "  'article_id': 'MLA1129772009',\n",
       "  'price': 810000,\n",
       "  'fluctuation': -178020,\n",
       "  'date': '2023-09-15T20:06:43.706Z'},\n",
       " {'_id': '652eb0b8579e53166cb65c26',\n",
       "  'article_id': 'MLA1129772009',\n",
       "  'price': 910000,\n",
       "  'fluctuation': 100000,\n",
       "  'date': '2023-10-17T16:05:12.500Z'}]"
      ]
     },
     "execution_count": 25,
     "metadata": {},
     "output_type": "execute_result"
    }
   ],
   "source": [
    "y"
   ]
  },
  {
   "cell_type": "code",
   "execution_count": null,
   "metadata": {},
   "outputs": [],
   "source": [
    "y = [{\"date\": datetime.fromisoformat(y[\"date\"]).strftime(\"%Y-%m-%d\"), \"price\": y['price']} for y in y]"
   ]
  },
  {
   "cell_type": "code",
   "execution_count": null,
   "metadata": {},
   "outputs": [],
   "source": [
    "pd.DataFrame(y, columns=['date', 'price'])"
   ]
  },
  {
   "cell_type": "code",
   "execution_count": 35,
   "metadata": {},
   "outputs": [],
   "source": [
    "def search_products(word:str):\n",
    "    #headers = {\n",
    "    #\"Authorization\": f\"Bearer {token}\"\n",
    "    #}\n",
    "    #user = get_user_cached()\n",
    "    token = \"APP_USR-3302019933717485-101811-999ae7dbc4222cda1b3637dcdee8f44b-70815489\"\n",
    "    new_word = word.replace(\" \", \"%20\")\n",
    "    items = http.request(\"GET\",url = f\"https://8oh8gaouk4.execute-api.us-east-2.amazonaws.com/searchFunction?product_name={new_word}&access_token={token}\").json()\n",
    "    #with open(\"front/json/cache.json\", \"w\") as js:\n",
    "    #    json.dump(items, js, indent=4)\n",
    "    return items"
   ]
  },
  {
   "cell_type": "code",
   "execution_count": 36,
   "metadata": {},
   "outputs": [],
   "source": [
    "x = search_products(\"rtx 3080\")"
   ]
  },
  {
   "cell_type": "code",
   "execution_count": 40,
   "metadata": {},
   "outputs": [
    {
     "data": {
      "text/plain": [
       "{'product_id': 'MLA1531000596',\n",
       " 'title': 'Placa De Video Nvidia Msi  Ventus Geforce Rtx 30 Series Rtx 3080 Geforce Rtx 3080 Ventus 3x 10g Oc Oc Edition 10gb',\n",
       " 'condition': 'new',\n",
       " 'permalink': 'https://www.mercadolibre.com.ar/placa-de-video-nvidia-msi-ventus-geforce-rtx-30-series-rtx-3080-geforce-rtx-3080-ventus-3x-10g-oc-oc-edition-10gb/p/MLA19147952',\n",
       " 'category_id': 'MLA1658',\n",
       " 'catalog_product_id': 'MLA19147952',\n",
       " 'thumbnail_id': '609171-MLA50246350391_062022',\n",
       " 'thumbnail': 'http://http2.mlstatic.com/D_609171-MLA50246350391_062022-I.jpg',\n",
       " 'price': 714000,\n",
       " 'original_price': None,\n",
       " 'sale_price': None,\n",
       " 'available_quantity': 1,\n",
       " 'sold_quantity': 0,\n",
       " 'seller_id': 441790337,\n",
       " 'seller_nickname': 'NUCLEOGAMER.COM',\n",
       " 'seller_permalink': 'http://perfil.mercadolibre.com.ar/NUCLEOGAMER.COM',\n",
       " 'seller_registration_date': '2019-06-05T11:30:24.000-04:00',\n",
       " 'seller_reputation': {'level_id': '5_green',\n",
       "  'power_seller_status': 'platinum',\n",
       "  'transactions': {'canceled': 628,\n",
       "   'completed': 3089,\n",
       "   'period': 'historic',\n",
       "   'ratings': {'negative': 0.21, 'neutral': 0.07, 'positive': 0.72},\n",
       "   'total': 3717},\n",
       "  'metrics': {'sales': {'period': '60 days', 'completed': 428},\n",
       "   'claims': {'period': '60 days',\n",
       "    'rate': 0,\n",
       "    'value': 0,\n",
       "    'excluded': {'real_value': 7, 'real_rate': 0.0138}},\n",
       "   'delayed_handling_time': {'period': '60 days',\n",
       "    'rate': 0,\n",
       "    'value': 0,\n",
       "    'excluded': {'real_value': 30, 'real_rate': 0.07}},\n",
       "   'cancellations': {'period': '60 days',\n",
       "    'rate': 0,\n",
       "    'value': 0,\n",
       "    'excluded': {'real_value': 0, 'real_rate': 0}}}},\n",
       " 'history': []}"
      ]
     },
     "execution_count": 40,
     "metadata": {},
     "output_type": "execute_result"
    }
   ],
   "source": [
    "x[0]"
   ]
  },
  {
   "cell_type": "markdown",
   "metadata": {},
   "source": [
    "<h1>RDS</h1>"
   ]
  },
  {
   "cell_type": "code",
   "execution_count": null,
   "metadata": {},
   "outputs": [],
   "source": [
    "import pymysql\n",
    "import os"
   ]
  },
  {
   "cell_type": "code",
   "execution_count": null,
   "metadata": {},
   "outputs": [],
   "source": [
    "def item_question(item_id):\n",
    "    try:\n",
    "        # Establece la conexión a la base de datos\n",
    "        connection = pymysql.connect(\n",
    "                                host= os.environ['DB_HOST'],\n",
    "                                port=  int(os.environ['DB_PORT']), \n",
    "                                user= os.environ['DB_USER'],\n",
    "                                password= os.environ['DB_PASSWORD'],\n",
    "                                database= os.environ['DB_NAME'])\n",
    "        \n",
    "        cursor = connection.cursor()\n",
    "        \n",
    "        # Consulto item_ids\n",
    "        response = cursor.execute(f\"SELECT item_id FROM item WHERE item_id = '{item_id}'\")\n",
    "        \n",
    "        return response\n",
    "    \n",
    "    finally:\n",
    "        connection.close()"
   ]
  }
 ],
 "metadata": {
  "kernelspec": {
   "display_name": "venv",
   "language": "python",
   "name": "python3"
  },
  "language_info": {
   "codemirror_mode": {
    "name": "ipython",
    "version": 3
   },
   "file_extension": ".py",
   "mimetype": "text/x-python",
   "name": "python",
   "nbconvert_exporter": "python",
   "pygments_lexer": "ipython3",
   "version": "3.11.5"
  }
 },
 "nbformat": 4,
 "nbformat_minor": 2
}
